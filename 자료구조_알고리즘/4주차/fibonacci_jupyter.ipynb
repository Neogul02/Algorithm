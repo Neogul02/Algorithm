{
 "cells": [
  {
   "cell_type": "code",
   "execution_count": null,
   "id": "initial_id",
   "metadata": {
    "collapsed": true
   },
   "outputs": [],
   "source": [
    ""
   ]
  },
  {
   "metadata": {},
   "cell_type": "code",
   "outputs": [],
   "execution_count": null,
   "source": [
    "def linear_fibonacci(k):\n",
    "    \"\"\"\n",
    "    O(n)\n",
    "    피보나치 수열의 k번째 항을 구하는 함수\n",
    "    \"\"\"\n",
    "    if k<=1:\n",
    "        return k, 0\n",
    "    else:\n",
    "        (a, b) = linear_fibonacci(k - 1)\n",
    "        return a + b, a"
   ],
   "id": "2c62e0f05d76bbe5"
  },
  {
   "metadata": {
    "ExecuteTime": {
     "end_time": "2025-09-22T02:12:43.007955Z",
     "start_time": "2025-09-22T02:12:42.995521Z"
    }
   },
   "cell_type": "code",
   "source": [
    "%timeit\n",
    "linear_fibonacci(80)"
   ],
   "id": "fef13dd5acfbec4e",
   "outputs": [
    {
     "ename": "NameError",
     "evalue": "name 'linear_fibonacci' is not defined",
     "output_type": "error",
     "traceback": [
      "\u001B[31m---------------------------------------------------------------------------\u001B[39m",
      "\u001B[31mNameError\u001B[39m                                 Traceback (most recent call last)",
      "\u001B[36mCell\u001B[39m\u001B[36m \u001B[39m\u001B[32mIn[2]\u001B[39m\u001B[32m, line 2\u001B[39m\n\u001B[32m      1\u001B[39m get_ipython().run_line_magic(\u001B[33m'\u001B[39m\u001B[33mtimeit\u001B[39m\u001B[33m'\u001B[39m, \u001B[33m'\u001B[39m\u001B[33m'\u001B[39m)\n\u001B[32m----> \u001B[39m\u001B[32m2\u001B[39m \u001B[43mlinear_fibonacci\u001B[49m(\u001B[32m80\u001B[39m)\n",
      "\u001B[31mNameError\u001B[39m: name 'linear_fibonacci' is not defined"
     ]
    }
   ],
   "execution_count": 2
  }
 ],
 "metadata": {
  "kernelspec": {
   "display_name": "Python 3",
   "language": "python",
   "name": "python3"
  },
  "language_info": {
   "codemirror_mode": {
    "name": "ipython",
    "version": 2
   },
   "file_extension": ".py",
   "mimetype": "text/x-python",
   "name": "python",
   "nbconvert_exporter": "python",
   "pygments_lexer": "ipython2",
   "version": "2.7.6"
  }
 },
 "nbformat": 4,
 "nbformat_minor": 5
}
